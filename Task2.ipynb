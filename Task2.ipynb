{
 "cells": [
  {
   "attachments": {},
   "cell_type": "markdown",
   "metadata": {},
   "source": [
    "Task02：线性回归（2天）\n",
    "\n",
    "---理论部分---\n",
    "\n",
    "模型建立：\n",
    "\n",
    "线性回归原理:\n",
    "线性回归（Linear Regression）是一种通过属性的线性组合来进行预测的线性模型，其目的是找到一条直线或者一个平面或者更高维的超平面，使得预测值与真实值之间的误差最小化。\n",
    "优点：结果具有很好的可解释性（w直观表达了各属性在预测中的重要性），计算熵不复杂。\n",
    "缺点：对非线性数据拟合不好\n",
    "适用数据类型：数值型和标称型数据。\n",
    "\n",
    "线性回归模型:给定由d个属性描述的示例$x = (x_1;x_2;...;x_d)$,其中$x_i$是x在第i个属性上的取值，线性模型试图通过属性的线性组合来进行预测的函数，即\n",
    "$$f(x)=\\omega_1x_1 + \\omega_2x_2 + ... + \\omega_nx_n $$\n",
    "如果，此模型试图预测实值输出标记，则是线性回归（linear regression）模型。\n",
    "\n",
    "学习策略：\n",
    "损失函数(Loss Function)：度量单样本预测的错误程度，损失函数值越小，模型就越好。\n",
    "代价函数(Cost Function)：度量全部样本集的平均误差。\n",
    "目标函数(Object Function)：代价函数和正则化函数，最终要优化的函数。\n",
    "常用的损失函数包括：0-1损失函数、平方损失函数、绝对损失函数、对数损失函数等；常用的代价函数包括均方误差、均方根误差、平均绝对误差等。\n",
    "\n",
    "算法求解：\n",
    "\n",
    "梯度下降法:梯度下降是一种更新参数的方法，具体如何更新跟原函数的在某点的梯度有关。不会改变要求的最优解。\n",
    "牛顿法:牛顿法的基本思想是利用迭代点处的一阶导数(梯度)和二阶导数(Hessen矩阵)对目标函数进行二次函数近似，然后把二次模型的极小点作为新的迭代点，并不断重复这一过程，直至求得满足精度的近似极小值。牛顿法的速度相当快，而且能高度逼近最优值。牛顿法分为基本的牛顿法和全局牛顿法。\n",
    "\n",
    "拟牛顿法:不用二阶偏导数而构造出可以近似海塞矩阵（或海塞矩阵的逆）的正定对称阵。不同的构造方法就产生了不同的拟牛顿法。\n",
    "\n",
    "线性回归的评估指标:\n",
    "回归算法的评价指标就是均方误差MSE，均方根误差RMSE，平均绝对误差MAE、R-Squared\n",
    "sklearn参数详解:\n",
    "LinearRegression(fit_intercept=True,normalize=False,copy_X=True,n_jobs=1)\n",
    "fit_intercept:是否有截据，如果没有则直线过原点。\n",
    "normalize:是否将数据归一化。\n",
    "copy_X:默认为True，当为True时，X会被copied,否则X将会被覆写。（这一参数的具体作用没明白，求大神指教了）\n",
    "n_jobs:默认值为1。计算时使用的核数。"
   ]
  },
  {
   "cell_type": "markdown",
   "metadata": {},
   "source": [
    "---练习部分---\n",
    "基于线性回归的房价预测问题\n",
    "利用sklearn解决回归问题\n",
    "sklearn.linear_model.LinearRegression"
   ]
  },
  {
   "cell_type": "code",
   "execution_count": 1,
   "metadata": {},
   "outputs": [],
   "source": [
    "import numpy as np\n",
    "#生成随机数\n",
    "np.random.seed(1234)\n",
    "x = np.random.rand(500,3)\n",
    "y = x.dot(np.array([4.2,5.7,10.8]))"
   ]
  },
  {
   "cell_type": "code",
   "execution_count": 2,
   "metadata": {},
   "outputs": [],
   "source": [
    "from sklearn.linear_model import LinearRegression\n",
    "import matplotlib.pyplot as plt"
   ]
  },
  {
   "cell_type": "code",
   "execution_count": 3,
   "metadata": {},
   "outputs": [
    {
     "data": {
      "text/plain": [
       "LinearRegression(copy_X=True, fit_intercept=True, n_jobs=None, normalize=False)"
      ]
     },
     "execution_count": 3,
     "metadata": {},
     "output_type": "execute_result"
    }
   ],
   "source": [
    "lr = LinearRegression(fit_intercept=True)\n",
    "lr.fit(x,y)\n"
   ]
  },
  {
   "cell_type": "code",
   "execution_count": 4,
   "metadata": {},
   "outputs": [
    {
     "name": "stdout",
     "output_type": "stream",
     "text": [
      "估计的参数值为：[ 4.2  5.7 10.8]\n"
     ]
    }
   ],
   "source": [
    "print(\"估计的参数值为：%s\" %(lr.coef_))"
   ]
  },
  {
   "cell_type": "code",
   "execution_count": 5,
   "metadata": {},
   "outputs": [
    {
     "name": "stdout",
     "output_type": "stream",
     "text": [
      "R2:1.0\n"
     ]
    }
   ],
   "source": [
    "print('R2:%s' %(lr.score(x,y)))"
   ]
  },
  {
   "cell_type": "code",
   "execution_count": 6,
   "metadata": {},
   "outputs": [
    {
     "name": "stdout",
     "output_type": "stream",
     "text": [
      "预测值为: [85.2]\n"
     ]
    }
   ],
   "source": [
    "x_test = np.array([2,4,5]).reshape(1,-1)\n",
    "y_hat = lr.predict(x_test)\n",
    "print(\"预测值为: %s\" %(y_hat))"
   ]
  },
  {
   "cell_type": "code",
   "execution_count": null,
   "metadata": {},
   "outputs": [],
   "source": []
  }
 ],
 "metadata": {
  "kernelspec": {
   "display_name": "Python 3",
   "language": "python",
   "name": "python3"
  },
  "language_info": {
   "codemirror_mode": {
    "name": "ipython",
    "version": 3
   },
   "file_extension": ".py",
   "mimetype": "text/x-python",
   "name": "python",
   "nbconvert_exporter": "python",
   "pygments_lexer": "ipython3",
   "version": "3.6.9"
  }
 },
 "nbformat": 4,
 "nbformat_minor": 2
}
